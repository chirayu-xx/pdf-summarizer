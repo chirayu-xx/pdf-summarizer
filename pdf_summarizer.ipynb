{
  "cells": [
    {
      "cell_type": "markdown",
      "metadata": {
        "id": "view-in-github",
        "colab_type": "text"
      },
      "source": [
        "<a href=\"https://colab.research.google.com/github/chirayu-xx/pdf-summarizer/blob/main/pdf_summarizer.ipynb\" target=\"_parent\"><img src=\"https://colab.research.google.com/assets/colab-badge.svg\" alt=\"Open In Colab\"/></a>"
      ]
    },
    {
      "cell_type": "code",
      "execution_count": null,
      "metadata": {
        "id": "mjqUAY8gHvyb"
      },
      "outputs": [],
      "source": [
        "!pip install PyPDF2\n",
        "!pip install transformers\n",
        "!pip install pytesseract\n",
        "!pip install PyMuPDF\n",
        "!pip install sentencepiece"
      ]
    },
    {
      "cell_type": "code",
      "execution_count": null,
      "metadata": {
        "id": "bexhuDabt7q1"
      },
      "outputs": [],
      "source": [
        "!pip install fastapi==0.103.2 nest-asyncio pyngrok uvicorn\n",
        "!pip install python-multipart"
      ]
    },
    {
      "cell_type": "code",
      "execution_count": null,
      "metadata": {
        "id": "5NGPy4YskUzN"
      },
      "outputs": [],
      "source": [
        "!pip install sentencepiece\n",
        "!ngrok authtoken 2ZLDE06RzMLQEbRfbRmZzhHTdSJ_5vnBBVzitpreaSLRbFGxD"
      ]
    },
    {
      "cell_type": "code",
      "execution_count": 39,
      "metadata": {
        "id": "njOdkL5ekrkS"
      },
      "outputs": [],
      "source": [
        "from fastapi.middleware.cors import CORSMiddleware\n",
        "from fastapi import FastAPI, File, UploadFile,HTTPException\n",
        "from fastapi.responses import JSONResponse\n",
        "from typing import List\n",
        "import os\n",
        "import fitz  # PyMuPDF library\n",
        "from transformers import AutoTokenizer, AutoModelWithLMHead\n",
        "\n",
        "app = FastAPI()\n",
        "\n",
        "app.add_middleware(\n",
        "    CORSMiddleware,\n",
        "    allow_origins=['*'],\n",
        "    allow_credentials=True,\n",
        "    allow_methods=['*'],\n",
        "    allow_headers=['*'],\n",
        ")\n",
        "\n",
        "# Path to store uploaded files\n",
        "upload_directory = '/content/uploaded_files'\n",
        "text_directory = '/content/text_files'\n",
        "\n",
        "\n",
        "# Home route\n",
        "@app.get(\"/\")\n",
        "def read_root():\n",
        "    return {\"message\": \"Welcome to the FastAPI server!\"}\n",
        "\n",
        "\n",
        "@app.post(\"/file\")\n",
        "async def upload_file(file: UploadFile = File(...)):\n",
        "    # Do here your stuff with the file\n",
        "    return {\"filename\": file.filename}\n",
        "\n",
        "@app.post(\"/extract-text\")\n",
        "async def extract_text_from_pdf(file: UploadFile = UploadFile(...)):\n",
        "    try:\n",
        "        # Read PDF content\n",
        "        pdf_content = await file.read()\n",
        "\n",
        "        # Open PDF with PyMuPDF\n",
        "        pdf_document = fitz.open(\"pdf\", pdf_content)\n",
        "\n",
        "        # Initialize an empty string to store extracted text\n",
        "        text = \"\"\n",
        "\n",
        "        # Iterate through pages and extract text\n",
        "        for page_number in range(pdf_document.page_count):\n",
        "            page = pdf_document[page_number]\n",
        "            text += page.get_text()\n",
        "\n",
        "        # Close the PDF document\n",
        "        pdf_document.close()\n",
        "\n",
        "        return JSONResponse(content={\"extracted_text\": text}, status_code=200)\n",
        "\n",
        "    except Exception as e:\n",
        "        raise HTTPException(status_code=500, detail=str(e))\n",
        "\n",
        "@app.post(\"/summarize\")\n",
        "async def extract_text_from_pdf(file: UploadFile = UploadFile(...)):\n",
        "    try:\n",
        "        # Read PDF content\n",
        "        pdf_content = await file.read()\n",
        "\n",
        "        # Open PDF with PyMuPDF\n",
        "        pdf_document = fitz.open(\"pdf\", pdf_content)\n",
        "\n",
        "        # Initialize an empty string to store extracted text\n",
        "        text = \"\"\n",
        "\n",
        "        # Iterate through pages and extract text\n",
        "        for page_number in range(pdf_document.page_count):\n",
        "            page = pdf_document[page_number]\n",
        "            text += page.get_text()\n",
        "\n",
        "        # Initialize the model and tokenizer\n",
        "        tokenizer=AutoTokenizer.from_pretrained('T5-base')\n",
        "        model=AutoModelWithLMHead.from_pretrained('T5-base', return_dict=True)\n",
        "\n",
        "        # Encode the text\n",
        "        inputs = tokenizer.encode(\"summarize: \" + text, return_tensors=\"pt\",truncation=True)\n",
        "\n",
        "        # Generate the summary\n",
        "        outputs = model.generate(inputs,\n",
        "        max_length=1000, min_length=100)\n",
        "\n",
        "        # Decode the summary\n",
        "        summary = tokenizer.decode(outputs[0], skip_special_tokens=True)\n",
        "\n",
        "        return JSONResponse(content={\"summary\": summary}, status_code=200)\n",
        "\n",
        "    except Exception as e:\n",
        "        raise HTTPException(status_code=500, detail=str(e))\n",
        "\n",
        "# Example Usage:\n",
        "# Send a PDF file to http://your-fastapi-host/extract-text using your frontend.\n"
      ]
    },
    {
      "cell_type": "code",
      "execution_count": null,
      "metadata": {
        "colab": {
          "base_uri": "https://localhost:8080/"
        },
        "id": "nF-Tpyy4sE_5",
        "outputId": "3c38cf92-8031-4083-d9dc-9fa459be8d31"
      },
      "outputs": [
        {
          "output_type": "stream",
          "name": "stdout",
          "text": [
            "Public URL: https://b6e5-34-85-172-54.ngrok-free.app\n"
          ]
        },
        {
          "output_type": "stream",
          "name": "stderr",
          "text": [
            "INFO:     Started server process [372]\n",
            "INFO:     Waiting for application startup.\n",
            "INFO:     Application startup complete.\n",
            "INFO:     Uvicorn running on http://127.0.0.1:8000 (Press CTRL+C to quit)\n",
            "Asking to truncate to max_length but no maximum length is provided and the model has no predefined maximum length. Default to no truncation.\n"
          ]
        },
        {
          "output_type": "stream",
          "name": "stdout",
          "text": [
            "INFO:     49.249.148.147:0 - \"POST /summarize HTTP/1.1\" 200 OK\n"
          ]
        },
        {
          "output_type": "stream",
          "name": "stderr",
          "text": [
            "Asking to truncate to max_length but no maximum length is provided and the model has no predefined maximum length. Default to no truncation.\n"
          ]
        },
        {
          "output_type": "stream",
          "name": "stdout",
          "text": [
            "INFO:     49.249.148.147:0 - \"POST /summarize HTTP/1.1\" 200 OK\n"
          ]
        },
        {
          "output_type": "stream",
          "name": "stderr",
          "text": [
            "Asking to truncate to max_length but no maximum length is provided and the model has no predefined maximum length. Default to no truncation.\n"
          ]
        },
        {
          "output_type": "stream",
          "name": "stdout",
          "text": [
            "INFO:     203.145.142.86:0 - \"POST /summarize HTTP/1.1\" 200 OK\n"
          ]
        },
        {
          "output_type": "stream",
          "name": "stderr",
          "text": [
            "Asking to truncate to max_length but no maximum length is provided and the model has no predefined maximum length. Default to no truncation.\n"
          ]
        },
        {
          "output_type": "stream",
          "name": "stdout",
          "text": [
            "INFO:     203.145.142.86:0 - \"POST /summarize HTTP/1.1\" 200 OK\n"
          ]
        },
        {
          "output_type": "stream",
          "name": "stderr",
          "text": [
            "Asking to truncate to max_length but no maximum length is provided and the model has no predefined maximum length. Default to no truncation.\n"
          ]
        }
      ],
      "source": [
        "import nest_asyncio\n",
        "from pyngrok import ngrok\n",
        "import uvicorn\n",
        "\n",
        "ngrok_tunnel = ngrok.connect(8000)\n",
        "print('Public URL:', ngrok_tunnel.public_url)\n",
        "nest_asyncio.apply()\n",
        "uvicorn.run(app, port=8000)"
      ]
    },
    {
      "cell_type": "code",
      "execution_count": null,
      "metadata": {
        "id": "Q3eOhk17sLqF"
      },
      "outputs": [],
      "source": []
    }
  ],
  "metadata": {
    "colab": {
      "provenance": [],
      "authorship_tag": "ABX9TyPJVy3KP9VT3Hx/1Rbu/7Ig",
      "include_colab_link": true
    },
    "kernelspec": {
      "display_name": "Python 3",
      "name": "python3"
    },
    "language_info": {
      "name": "python"
    }
  },
  "nbformat": 4,
  "nbformat_minor": 0
}